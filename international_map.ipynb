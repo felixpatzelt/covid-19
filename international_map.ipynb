{
 "cells": [
  {
   "cell_type": "markdown",
   "metadata": {},
   "source": [
    "A little notebook to help visualise the official numbers for personal use. Absolutely no guarantees are made.\n",
    "\n",
    "**This is not a replacement for expert advice. Please listen to your local health authorities.**\n",
    "\n",
    "The data is dynamically loaded from: https://github.com/CSSEGISandData/COVID-19 \n",
    "\n",
    "Note: Aggregation levels in the US seems to have changed on 2020-03-10"
   ]
  },
  {
   "cell_type": "code",
   "execution_count": null,
   "metadata": {},
   "outputs": [],
   "source": [
    "%matplotlib widget\n",
    "import matplotlib.pyplot as plt\n",
    "import pandas as pd\n",
    "import numpy as np\n",
    "import cartopy.crs as ccrs # needs Proj, which is not pip-installable\n",
    "import matplotlib.animation as animation\n",
    "# where is ffmpeg on your sytem (not pip-installable)?\n",
    "plt.rcParams['animation.ffmpeg_path'] = '/opt/local/bin/ffmpeg'"
   ]
  },
  {
   "cell_type": "code",
   "execution_count": null,
   "metadata": {},
   "outputs": [],
   "source": [
    "from jhu_helpers import *"
   ]
  },
  {
   "cell_type": "code",
   "execution_count": null,
   "metadata": {},
   "outputs": [],
   "source": [
    "# get data\n",
    "jhu, days = join_jhu_df(*get_jhu_data())"
   ]
  },
  {
   "cell_type": "code",
   "execution_count": null,
   "metadata": {},
   "outputs": [],
   "source": [
    "# choose which metric to plot and how to scale it\n",
    "plot_metric = 'infected'\n",
    "df          = jhu[plot_metric]\n",
    "smax        = df[days].max().max() / 500"
   ]
  },
  {
   "cell_type": "code",
   "execution_count": null,
   "metadata": {},
   "outputs": [],
   "source": [
    "# callback on each animation frame \n",
    "def update_map(day, df, ax, scatter, smax, plot_metric):\n",
    "    ax.set_title(f'{plot_metric.title()} on {day}')\n",
    "    scatter.set_sizes(df[day].values / smax)\n",
    "    return scatter,    "
   ]
  },
  {
   "cell_type": "code",
   "execution_count": null,
   "metadata": {},
   "outputs": [],
   "source": [
    "plt.close(0)\n",
    "fig = plt.figure(0, figsize=(9.6, 5.4))\n",
    "\n",
    "# setup cartopy\n",
    "ax = plt.axes(\n",
    "    (0,0,1,.94),\n",
    "    projection=ccrs.Mercator(\n",
    "        central_longitude=0,  \n",
    "        min_latitude=-60,\n",
    "        max_latitude=75\n",
    "    ),\n",
    "    frameon=False\n",
    ")\n",
    "ax.stock_img()\n",
    "ax.coastlines(color=(0,0,.1,.8))\n",
    "#ax.set_extent([-170, 179, -65, 70], crs=ccrs.PlateCarree())\n",
    "\n",
    "# plot first frame\n",
    "scatter = ax.scatter(\n",
    "    df.Long.values, \n",
    "    df.Lat.values, \n",
    "    s=df[days[0]].values / smax, \n",
    "    facecolors=(1,0,0,.5), \n",
    "    edgecolors=(.8,0,0,1), \n",
    "    transform=ccrs.PlateCarree()\n",
    ")\n",
    "\n",
    "## setup & start animation\n",
    "scatter_ani = animation.FuncAnimation(\n",
    "    fig, update_map, days, \n",
    "    repeat=True, interval=50, blit=True,\n",
    "    fargs=(df, ax, scatter, smax, plot_metric),\n",
    ")"
   ]
  },
  {
   "cell_type": "code",
   "execution_count": null,
   "metadata": {},
   "outputs": [],
   "source": [
    "#scatter_ani.event_source.stop() # stop animation"
   ]
  },
  {
   "cell_type": "code",
   "execution_count": null,
   "metadata": {},
   "outputs": [],
   "source": [
    "#update_map(days[50], df, ax, scatter, smax, plot_metric) # manually set frame"
   ]
  },
  {
   "cell_type": "code",
   "execution_count": null,
   "metadata": {},
   "outputs": [],
   "source": [
    "## save as video\n",
    "#FFwriter = animation.FFMpegWriter(fps=15)\n",
    "#scatter_ani.save('map_animation.mp4', writer=FFwriter)"
   ]
  },
  {
   "cell_type": "code",
   "execution_count": null,
   "metadata": {},
   "outputs": [],
   "source": [
    "## show saved video\n",
    "#Video(\"map_animation.mp4\", width=1000)"
   ]
  },
  {
   "cell_type": "code",
   "execution_count": null,
   "metadata": {},
   "outputs": [],
   "source": [
    "# save as gif\n",
    "#IMwriter = animation.ImageMagickWriter(fps=15)\n",
    "#scatter_ani.save('map_animation.gif', writer=IMwriter)"
   ]
  },
  {
   "cell_type": "code",
   "execution_count": null,
   "metadata": {},
   "outputs": [],
   "source": []
  }
 ],
 "metadata": {
  "kernelspec": {
   "display_name": "Python 3",
   "language": "python",
   "name": "python3"
  },
  "language_info": {
   "codemirror_mode": {
    "name": "ipython",
    "version": 3
   },
   "file_extension": ".py",
   "mimetype": "text/x-python",
   "name": "python",
   "nbconvert_exporter": "python",
   "pygments_lexer": "ipython3",
   "version": "3.7.7"
  }
 },
 "nbformat": 4,
 "nbformat_minor": 4
}
